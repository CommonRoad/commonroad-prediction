{
 "cells": [
  {
   "cell_type": "markdown",
   "id": "ef6d02ff28eefa6a",
   "metadata": {
    "collapsed": false,
    "jupyter": {
     "outputs_hidden": false
    }
   },
   "source": [
    "## Imports and General Settings"
   ]
  },
  {
   "cell_type": "code",
   "execution_count": null,
   "id": "2be5c2d84016ea90",
   "metadata": {
    "collapsed": false,
    "jupyter": {
     "outputs_hidden": false
    }
   },
   "outputs": [],
   "source": [
    "# Imports\n",
    "import copy\n",
    "from pathlib import Path\n",
    "\n",
    "from commonroad.common.file_reader import CommonRoadFileReader\n",
    "\n",
    "from crpred.basic_models.constant_acceleration_predictor import (\n",
    "    ConstantAccelerationCurvilinearPredictor,\n",
    "    ConstantAccelerationLinearPredictor,\n",
    ")\n",
    "from crpred.basic_models.constant_velocity_predictor import (\n",
    "    ConstantVelocityCurvilinearPredictor,\n",
    "    ConstantVelocityLinearPredictor,\n",
    ")\n",
    "from crpred.ground_truth_predictor import GroundTruthPredictor\n",
    "from crpred.utility.config import PredictorParams\n",
    "from crpred.utility.visualization import plot_scenario"
   ]
  },
  {
   "cell_type": "code",
   "execution_count": null,
   "id": "771aaa52d6c91db",
   "metadata": {
    "collapsed": false,
    "jupyter": {
     "outputs_hidden": false
    }
   },
   "outputs": [],
   "source": [
    "# General settings\n",
    "num_steps_prediction = 50\n",
    "scenario_path = Path(\"scenarios/DEU_Muc-3_1_T-1.xml\")\n",
    "sc, _ = CommonRoadFileReader(scenario_path).open(lanelet_assignment=True)\n",
    "config = PredictorParams(num_steps_prediction=num_steps_prediction)"
   ]
  },
  {
   "cell_type": "markdown",
   "id": "d4c91f807770a08",
   "metadata": {
    "collapsed": false,
    "jupyter": {
     "outputs_hidden": false
    }
   },
   "source": [
    "## Ground Truth Prediction"
   ]
  },
  {
   "cell_type": "code",
   "execution_count": null,
   "id": "35759049b4b81688",
   "metadata": {
    "collapsed": false,
    "jupyter": {
     "outputs_hidden": false
    }
   },
   "outputs": [],
   "source": [
    "new_sc = copy.deepcopy(sc)\n",
    "predictor = GroundTruthPredictor(config)\n",
    "prediction = predictor.predict(new_sc)\n",
    "\n",
    "plot_scenario(\n",
    "    prediction,\n",
    "    step_end=config.num_steps_prediction,\n",
    "    plot_occupancies=True,\n",
    "    save_plots=False,\n",
    "    save_gif=False\n",
    ")"
   ]
  },
  {
   "cell_type": "markdown",
   "id": "b392020a37f60d7c",
   "metadata": {
    "collapsed": false,
    "jupyter": {
     "outputs_hidden": false
    }
   },
   "source": [
    "## Constant Velocity Linear Prediction"
   ]
  },
  {
   "cell_type": "code",
   "execution_count": null,
   "id": "5d9d85ac60ddd87f",
   "metadata": {
    "collapsed": false,
    "jupyter": {
     "outputs_hidden": false
    }
   },
   "outputs": [],
   "source": [
    "new_sc = copy.deepcopy(sc)\n",
    "predictor = ConstantVelocityLinearPredictor(config)\n",
    "prediction = predictor.predict(new_sc)\n",
    "\n",
    "plot_scenario(\n",
    "    prediction,\n",
    "    step_end=config.num_steps_prediction,\n",
    "    plot_occupancies=True,\n",
    "    save_plots=False,\n",
    "    save_gif=False\n",
    ")"
   ]
  },
  {
   "cell_type": "markdown",
   "id": "e663e60e9ebd196e",
   "metadata": {
    "collapsed": false,
    "jupyter": {
     "outputs_hidden": false
    }
   },
   "source": [
    "## Constant Velocity Curvilinear Prediction"
   ]
  },
  {
   "cell_type": "code",
   "execution_count": null,
   "id": "b9009cc12378ce84",
   "metadata": {
    "collapsed": false,
    "jupyter": {
     "outputs_hidden": false
    }
   },
   "outputs": [],
   "source": [
    "new_sc = copy.deepcopy(sc)\n",
    "predictor = ConstantVelocityCurvilinearPredictor(config)\n",
    "prediction = predictor.predict(new_sc)\n",
    "\n",
    "plot_scenario(\n",
    "    prediction,\n",
    "    step_end=config.num_steps_prediction,\n",
    "    plot_occupancies=True,\n",
    "    save_plots=False,\n",
    "    save_gif=False\n",
    ")"
   ]
  },
  {
   "cell_type": "markdown",
   "id": "d1613c57dd842554",
   "metadata": {
    "collapsed": false,
    "jupyter": {
     "outputs_hidden": false
    }
   },
   "source": [
    "## Constant Acceleration Linear Prediction"
   ]
  },
  {
   "cell_type": "code",
   "execution_count": null,
   "id": "cbbe58969d0d191",
   "metadata": {
    "collapsed": false,
    "jupyter": {
     "outputs_hidden": false
    }
   },
   "outputs": [],
   "source": [
    "new_sc = copy.deepcopy(sc)\n",
    "predictor = ConstantAccelerationLinearPredictor(config)\n",
    "prediction = predictor.predict(new_sc)\n",
    "\n",
    "plot_scenario(\n",
    "    prediction,\n",
    "    step_end=config.num_steps_prediction,\n",
    "    plot_occupancies=True,\n",
    "    save_plots=False,\n",
    "    save_gif=False\n",
    ")"
   ]
  },
  {
   "cell_type": "markdown",
   "id": "bece1190-b7c6-4336-92fb-c9f7fce3dd0e",
   "metadata": {
    "collapsed": false,
    "jupyter": {
     "outputs_hidden": false
    }
   },
   "source": [
    "## Constant Acceleration Curvilinear Prediction"
   ]
  },
  {
   "cell_type": "code",
   "execution_count": null,
   "id": "a2ac75038963cbe4",
   "metadata": {
    "collapsed": false,
    "jupyter": {
     "outputs_hidden": false
    }
   },
   "outputs": [],
   "source": [
    "new_sc = copy.deepcopy(sc)\n",
    "predictor = ConstantAccelerationCurvilinearPredictor(config)\n",
    "prediction = predictor.predict(new_sc)\n",
    "\n",
    "plot_scenario(\n",
    "    prediction,\n",
    "    step_end=config.num_steps_prediction,\n",
    "    plot_occupancies=True,\n",
    "    save_plots=False,\n",
    "    save_gif=False\n",
    ")"
   ]
  }
 ],
 "metadata": {
  "kernelspec": {
   "display_name": "Python 3 (ipykernel)",
   "language": "python",
   "name": "python3"
  },
  "language_info": {
   "codemirror_mode": {
    "name": "ipython",
    "version": 3
   },
   "file_extension": ".py",
   "mimetype": "text/x-python",
   "name": "python",
   "nbconvert_exporter": "python",
   "pygments_lexer": "ipython3",
   "version": "3.10.12"
  }
 },
 "nbformat": 4,
 "nbformat_minor": 5
}
