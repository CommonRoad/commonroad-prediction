{
 "cells": [
  {
   "cell_type": "markdown",
   "source": [
    "## Imports and General Settings"
   ],
   "metadata": {
    "collapsed": false
   },
   "id": "ef6d02ff28eefa6a"
  },
  {
   "cell_type": "code",
   "outputs": [],
   "source": [
    "# Imports\n",
    "import copy\n",
    "from pathlib import Path\n",
    "\n",
    "from commonroad.common.file_reader import CommonRoadFileReader\n",
    "\n",
    "from crpred.basic_models.constant_acceleration_predictor import (\n",
    "    ConstantAccelerationCurvilinearPredictor,\n",
    "    ConstantAccelerationLinearPredictor,\n",
    ")\n",
    "from crpred.basic_models.constant_velocity_predictor import (\n",
    "    ConstantVelocityCurvilinearPredictor,\n",
    "    ConstantVelocityLinearPredictor,\n",
    ")\n",
    "from crpred.ground_truth_predictor import GroundTruthPredictor\n",
    "from crpred.utility.config import PredictorParams\n",
    "from crpred.utility.visualization import plot_scenario"
   ],
   "metadata": {
    "collapsed": false
   },
   "id": "2be5c2d84016ea90",
   "execution_count": null
  },
  {
   "cell_type": "code",
   "outputs": [],
   "source": [
    "# General settings\n",
    "num_steps_prediction = 50\n",
    "scenario_path = Path(\"scenarios/DEU_Muc-3_1_T-1.xml\")\n",
    "sc, _ = CommonRoadFileReader(scenario_path).open(lanelet_assignment=True)\n",
    "config = PredictorParams(num_steps_prediction=num_steps_prediction)"
   ],
   "metadata": {
    "collapsed": false
   },
   "id": "771aaa52d6c91db",
   "execution_count": null
  },
  {
   "cell_type": "markdown",
   "source": [
    "## Ground Truth Prediction"
   ],
   "metadata": {
    "collapsed": false
   },
   "id": "d4c91f807770a08"
  },
  {
   "cell_type": "code",
   "outputs": [],
   "source": [
    "new_sc = copy.deepcopy(sc)\n",
    "predictor = GroundTruthPredictor(config)\n",
    "prediction = predictor.predict(new_sc)\n",
    "\n",
    "plot_scenario(\n",
    "    prediction,\n",
    "    step_end=config.num_steps_prediction,\n",
    "    plot_occupancies=True,\n",
    "    save_plots=False,\n",
    "    save_gif=False\n",
    ")"
   ],
   "metadata": {
    "collapsed": false
   },
   "id": "35759049b4b81688",
   "execution_count": null
  },
  {
   "cell_type": "markdown",
   "source": [
    "## Constant Velocity Linear Prediction"
   ],
   "metadata": {
    "collapsed": false
   },
   "id": "b392020a37f60d7c"
  },
  {
   "cell_type": "code",
   "outputs": [],
   "source": [
    "new_sc = copy.deepcopy(sc)\n",
    "predictor = ConstantVelocityLinearPredictor(config)\n",
    "prediction = predictor.predict(new_sc)\n",
    "\n",
    "plot_scenario(\n",
    "    prediction,\n",
    "    step_end=config.num_steps_prediction,\n",
    "    plot_occupancies=True,\n",
    "    save_plots=False,\n",
    "    save_gif=False\n",
    ")"
   ],
   "metadata": {
    "collapsed": false
   },
   "id": "5d9d85ac60ddd87f",
   "execution_count": null
  },
  {
   "cell_type": "markdown",
   "source": [
    "## Constant Velocity Curvilinear Prediction"
   ],
   "metadata": {
    "collapsed": false
   },
   "id": "e663e60e9ebd196e"
  },
  {
   "cell_type": "code",
   "outputs": [],
   "source": [
    "new_sc = copy.deepcopy(sc)\n",
    "predictor = ConstantVelocityCurvilinearPredictor(config)\n",
    "prediction = predictor.predict(new_sc)\n",
    "\n",
    "plot_scenario(\n",
    "    prediction,\n",
    "    step_end=config.num_steps_prediction,\n",
    "    plot_occupancies=True,\n",
    "    save_plots=False,\n",
    "    save_gif=False\n",
    ")"
   ],
   "metadata": {
    "collapsed": false
   },
   "id": "b9009cc12378ce84",
   "execution_count": null
  },
  {
   "cell_type": "markdown",
   "source": [
    "## Constant Acceleration Linear Prediction"
   ],
   "metadata": {
    "collapsed": false
   },
   "id": "d1613c57dd842554"
  },
  {
   "cell_type": "code",
   "outputs": [],
   "source": [
    "new_sc = copy.deepcopy(sc)\n",
    "predictor = ConstantAccelerationLinearPredictor(config)\n",
    "prediction = predictor.predict(new_sc)\n",
    "\n",
    "plot_scenario(\n",
    "    prediction,\n",
    "    step_end=config.num_steps_prediction,\n",
    "    plot_occupancies=True,\n",
    "    save_plots=False,\n",
    "    save_gif=False\n",
    ")"
   ],
   "metadata": {
    "collapsed": false
   },
   "id": "cbbe58969d0d191",
   "execution_count": null
  },
  {
   "cell_type": "code",
   "outputs": [],
   "source": [
    "## Constant Acceleration Curvilinear Prediction"
   ],
   "metadata": {
    "collapsed": false
   },
   "id": "dc6c01cecf5fbbe4",
   "execution_count": null
  },
  {
   "cell_type": "code",
   "outputs": [],
   "source": [
    "new_sc = copy.deepcopy(sc)\n",
    "predictor = ConstantAccelerationCurvilinearPredictor(config)\n",
    "prediction = predictor.predict(new_sc)\n",
    "\n",
    "plot_scenario(\n",
    "    prediction,\n",
    "    step_end=config.num_steps_prediction,\n",
    "    plot_occupancies=True,\n",
    "    save_plots=False,\n",
    "    save_gif=False\n",
    ")"
   ],
   "metadata": {
    "collapsed": false
   },
   "id": "a2ac75038963cbe4",
   "execution_count": null
  }
 ],
 "metadata": {
  "kernelspec": {
   "display_name": "Python 3",
   "language": "python",
   "name": "python3"
  },
  "language_info": {
   "codemirror_mode": {
    "name": "ipython",
    "version": 2
   },
   "file_extension": ".py",
   "mimetype": "text/x-python",
   "name": "python",
   "nbconvert_exporter": "python",
   "pygments_lexer": "ipython2",
   "version": "2.7.6"
  }
 },
 "nbformat": 4,
 "nbformat_minor": 5
}
